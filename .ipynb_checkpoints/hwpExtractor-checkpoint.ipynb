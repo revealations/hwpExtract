{
 "cells": [
  {
   "cell_type": "code",
   "execution_count": 5,
   "id": "9ed65d2b",
   "metadata": {},
   "outputs": [],
   "source": [
    "import pandas as pd\n",
    "import shutil\n",
    "import olefile as olefile"
   ]
  },
  {
   "cell_type": "code",
   "execution_count": null,
   "id": "e856af75",
   "metadata": {},
   "outputs": [],
   "source": [
    "f = olefile.OleFileIO('상장_양식.hwp')\n",
    "encoded_text = f.openstream('PrvText').read()\n",
    "decoded_text = encoded_text.decode('UTF-8')\n",
    "print(decoded_text)"
   ]
  },
  {
   "cell_type": "code",
   "execution_count": null,
   "id": "f627652e",
   "metadata": {},
   "outputs": [],
   "source": []
  }
 ],
 "metadata": {
  "kernelspec": {
   "display_name": "Python 3 (ipykernel)",
   "language": "python",
   "name": "python3"
  },
  "language_info": {
   "codemirror_mode": {
    "name": "ipython",
    "version": 3
   },
   "file_extension": ".py",
   "mimetype": "text/x-python",
   "name": "python",
   "nbconvert_exporter": "python",
   "pygments_lexer": "ipython3",
   "version": "3.9.7"
  }
 },
 "nbformat": 4,
 "nbformat_minor": 5
}

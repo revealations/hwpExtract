{
 "cells": [
  {
   "cell_type": "code",
   "execution_count": 5,
   "id": "4b399680",
   "metadata": {},
   "outputs": [],
   "source": [
    "import pandas as pd\n",
    "import shutil\n",
    "import olefile as olefile"
   ]
  },
  {
   "cell_type": "code",
   "execution_count": 7,
   "id": "4486e708",
   "metadata": {},
   "outputs": [
    {
     "name": "stdout",
     "output_type": "stream",
     "text": [
      "\r\n",
      "제 2021-index 호\r\n",
      "<상     장>\r\n",
      "\r\n",
      "<순위 : ><rangking>\r\n",
      "<성명 : ><name>\r\n",
      "\r\n",
      "<위 사람은 주식회사 코딩나우에서  주최하는 대회에서  위와 같이 입상하였기에 상장을 수여함.>\r\n",
      "\r\n",
      "year년 month월 day일 \r\n",
      " \r\n",
      "주식회사 코딩나우 드림\r\n",
      "\r\n",
      "\n"
     ]
    }
   ],
   "source": [
    "f = olefile.OleFileIO('상장_양식.hwp')\n",
    "encoded_text = f.openstream('PrvText').read()\n",
    "decoded_text = encoded_text.decode('UTF-16')\n",
    "print(decoded_text)"
   ]
  },
  {
   "cell_type": "code",
   "execution_count": null,
   "id": "dda2a418",
   "metadata": {},
   "outputs": [],
   "source": []
  }
 ],
 "metadata": {
  "kernelspec": {
   "display_name": "Python 3 (ipykernel)",
   "language": "python",
   "name": "python3"
  },
  "language_info": {
   "codemirror_mode": {
    "name": "ipython",
    "version": 3
   },
   "file_extension": ".py",
   "mimetype": "text/x-python",
   "name": "python",
   "nbconvert_exporter": "python",
   "pygments_lexer": "ipython3",
   "version": "3.9.7"
  }
 },
 "nbformat": 4,
 "nbformat_minor": 5
}
